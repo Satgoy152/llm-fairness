{
 "cells": [
  {
   "cell_type": "code",
   "execution_count": 3,
   "metadata": {},
   "outputs": [],
   "source": [
    "def generate_prompts(agents, items, table):\n",
    "    \n",
    "    base_prompt = f\"\"\"\n",
    "The following table represents the valuations of {agents} agents numbered 0,1,2, and so on for {items} items.  numbered 0,1,2, and so on. For example, the value agent 1 has of item 2 is {table[2][1]}.\n",
    "\n",
    "{table}\n",
    "\n",
    "Fairly allocate all the items to the agents so that each agent gets an integer number of items.\n",
    "\"\"\"\n",
    "\n",
    "    return base_prompt"
   ]
  },
  {
   "cell_type": "code",
   "execution_count": 20,
   "metadata": {},
   "outputs": [],
   "source": [
    "import pandas as pd\n",
    "from valuation_generation import generate_valuations\n",
    "\n",
    "agents = 2\n",
    "items = 3\n",
    "type_of_dist = 'exponential'\n",
    "\n",
    "table = pd.DataFrame(generate_valuations(agents, items, scale=10, type=type_of_dist))\n"
   ]
  },
  {
   "cell_type": "code",
   "execution_count": 21,
   "metadata": {},
   "outputs": [],
   "source": [
    "# Log results\n",
    "\n",
    "\n",
    "with open(\"initial_tests/test_10.txt\", \"w\") as file:\n",
    "    file.write(\"Input:\\n\")\n",
    "    file.write(generate_prompts(agents, items, table))\n",
    "    file.write(\"\\n\")\n",
    "    file.write(\"Model: GPT4o\\n\")\n",
    "    file.write(f\"Type of distribution: {type_of_dist}\\n\")\n",
    "    file.write(\"Temperature: 0.7\\n\")\n",
    "    file.write(\"\\n\")\n",
    "    file.write(\"Output:\\n\")"
   ]
  }
 ],
 "metadata": {
  "kernelspec": {
   "display_name": "llm_fairness",
   "language": "python",
   "name": "python3"
  },
  "language_info": {
   "codemirror_mode": {
    "name": "ipython",
    "version": 3
   },
   "file_extension": ".py",
   "mimetype": "text/x-python",
   "name": "python",
   "nbconvert_exporter": "python",
   "pygments_lexer": "ipython3",
   "version": "3.9.20"
  }
 },
 "nbformat": 4,
 "nbformat_minor": 2
}

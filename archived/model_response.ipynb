{
 "cells": [
  {
   "cell_type": "code",
   "execution_count": null,
   "metadata": {},
   "outputs": [
    {
     "data": {
      "text/plain": [
       "ChatPromptTemplate(input_variables=['valuation'], input_types={}, partial_variables={}, messages=[HumanMessagePromptTemplate(prompt=PromptTemplate(input_variables=['valuation'], input_types={}, partial_variables={}, template='{valuation}'), additional_kwargs={})])\n",
       "| ChatOpenAI(client=<openai.resources.chat.completions.Completions object at 0x17bc008e0>, async_client=<openai.resources.chat.completions.AsyncCompletions object at 0x17bc0a880>, root_client=<openai.OpenAI object at 0x17ab95ee0>, root_async_client=<openai.AsyncOpenAI object at 0x17bc00910>, model_name='gpt-4', model_kwargs={}, openai_api_key=SecretStr('**********'))\n",
       "| StrOutputParser()"
      ]
     },
     "execution_count": 12,
     "metadata": {},
     "output_type": "execute_result"
    }
   ],
   "source": [
    "from model_response import model_init, query_model\n",
    "\n",
    "models = model_init()\n",
    "\n",
    "agents = 2\n",
    "items = 3\n",
    "type_of_dist = \"uniform\"\n",
    "\n",
    "path = \n",
    "response = query_model(models[0], agents, items, type_of_dist)"
   ]
  },
  {
   "cell_type": "code",
   "execution_count": null,
   "metadata": {},
   "outputs": [],
   "source": [
    "import pandas as pd\n",
    "from valuation_generation import generate_valuations\n",
    "from prompt_generation import generate_prompts\n",
    "\n",
    "\n",
    "\n",
    "table = pd.DataFrame(generate_valuations(agents, items, scale=100))\n",
    "\n",
    "with open(\"initial_tests/test_12.txt\", \"w\") as file:\n",
    "    file.write(\"Input:\\n\")\n",
    "    input = generate_prompts(agents, items, table)\n",
    "    file.write(input)\n",
    "    file.write(\"\\n\")\n",
    "    file.write(\"Model: GPT4o\\n\")\n",
    "    file.write(f\"Type of distribution: {type_of_dist}\\n\")\n",
    "    file.write(\"Temperature: 0.7\\n\")\n",
    "    file.write(\"\\n\")\n",
    "    file.write(\"Output:\\n\")\n",
    "    file.write(chain4o.invoke({\"valuation\": input}))\n",
    "    file.write(\"\\n\")"
   ]
  },
  {
   "cell_type": "code",
   "execution_count": null,
   "metadata": {},
   "outputs": [
    {
     "name": "stdout",
     "output_type": "stream",
     "text": [
      "Last occurrence: 2029\n",
      "Quotes occurrence: 2068\n",
      "<class 'list'>\n"
     ]
    }
   ],
   "source": [
    "from model_response import extract_json\n",
    "\n",
    "# Example usage\n",
    "file_path = 'initial_tests/test_12.txt'\n",
    "output = extract_json(file_path)\n",
    "\n"
   ]
  }
 ],
 "metadata": {
  "kernelspec": {
   "display_name": "llm_fairness",
   "language": "python",
   "name": "python3"
  },
  "language_info": {
   "codemirror_mode": {
    "name": "ipython",
    "version": 3
   },
   "file_extension": ".py",
   "mimetype": "text/x-python",
   "name": "python",
   "nbconvert_exporter": "python",
   "pygments_lexer": "ipython3",
   "version": "3.9.20"
  }
 },
 "nbformat": 4,
 "nbformat_minor": 2
}

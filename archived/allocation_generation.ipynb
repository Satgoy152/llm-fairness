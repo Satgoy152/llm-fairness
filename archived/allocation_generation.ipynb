{
 "cells": [
  {
   "cell_type": "code",
   "execution_count": null,
   "metadata": {},
   "outputs": [
    {
     "name": "stdout",
     "output_type": "stream",
     "text": [
      "Generating all possible allocations for 2 agents and 3 items...\n",
      "This will create 8 different allocations.\n"
     ]
    }
   ],
   "source": [
    "import numpy as np\n",
    "from itertools import product\n",
    "\n",
    "from stats_utils import generate_all_allocations, calculate_utilities, calculate_all_envy, max_nash_welfare, max_egalitarian_welfare, max_utilitarian_welfare\n",
    "\n",
    "\n",
    "\n",
    "# Based on the provided valuation table\n",
    "num_agents = 2  # Agents 0-4\n",
    "num_items = 3   # Items 0-6\n",
    "\n",
    "allocations = generate_all_allocations(num_agents, num_items)\n",
    "\n",
    "# Generate all possible allocations\n",
    "print(f\"Generating all possible allocations for {num_agents} agents and {num_items} items...\")\n",
    "print(f\"This will create {num_agents ** num_items} different allocations.\")\n",
    "\n"
   ]
  },
  {
   "cell_type": "code",
   "execution_count": 1,
   "metadata": {},
   "outputs": [
    {
     "ename": "NameError",
     "evalue": "name 'np' is not defined",
     "output_type": "error",
     "traceback": [
      "\u001b[0;31m---------------------------------------------------------------------------\u001b[0m",
      "\u001b[0;31mNameError\u001b[0m                                 Traceback (most recent call last)",
      "Cell \u001b[0;32mIn[1], line 10\u001b[0m\n\u001b[1;32m      8\u001b[0m valuation_table \u001b[38;5;241m=\u001b[39m lines[start\u001b[38;5;241m+\u001b[39m\u001b[38;5;241m1\u001b[39m:end]\n\u001b[1;32m      9\u001b[0m valuation_table \u001b[38;5;241m=\u001b[39m \u001b[38;5;124m'\u001b[39m\u001b[38;5;124m'\u001b[39m\u001b[38;5;241m.\u001b[39mjoin(valuation_table)\n\u001b[0;32m---> 10\u001b[0m valuation_table \u001b[38;5;241m=\u001b[39m \u001b[43mnp\u001b[49m\u001b[38;5;241m.\u001b[39mfromstring(valuation_table\u001b[38;5;241m.\u001b[39mreplace(\u001b[38;5;124m'\u001b[39m\u001b[38;5;124m[\u001b[39m\u001b[38;5;124m'\u001b[39m, \u001b[38;5;124m'\u001b[39m\u001b[38;5;124m'\u001b[39m)\u001b[38;5;241m.\u001b[39mreplace(\u001b[38;5;124m'\u001b[39m\u001b[38;5;124m]\u001b[39m\u001b[38;5;124m'\u001b[39m, \u001b[38;5;124m'\u001b[39m\u001b[38;5;124m'\u001b[39m), sep\u001b[38;5;241m=\u001b[39m\u001b[38;5;124m'\u001b[39m\u001b[38;5;124m \u001b[39m\u001b[38;5;124m'\u001b[39m)\n\u001b[1;32m     11\u001b[0m valuation_table \u001b[38;5;241m=\u001b[39m valuation_table\u001b[38;5;241m.\u001b[39mreshape(num_agents, num_items)\n\u001b[1;32m     12\u001b[0m valuation_table \u001b[38;5;241m=\u001b[39m valuation_table\u001b[38;5;241m.\u001b[39mastype(\u001b[38;5;28mint\u001b[39m)\n",
      "\u001b[0;31mNameError\u001b[0m: name 'np' is not defined"
     ]
    }
   ],
   "source": [
    "# given a valuation table get the number of allocations that are envy free\n",
    "\n",
    "with open('outputs/agents_2/items_3/gpt4o/zero_shot0/output_3.txt', 'r') as file:\n",
    "\n",
    "    lines = file.readlines()\n",
    "    start = lines.index('Valuation Table:\\n')\n",
    "    end = lines.index('Output:\\n')\n",
    "    valuation_table = lines[start+1:end]\n",
    "    valuation_table = ''.join(valuation_table)\n",
    "    valuation_table = np.fromstring(valuation_table.replace('[', '').replace(']', ''), sep=' ')\n",
    "    valuation_table = valuation_table.reshape(num_agents, num_items)\n",
    "    valuation_table = valuation_table.astype(int)\n",
    "\n",
    "\n",
    "env = calculate_all_envy(valuation_table * len(allocations), allocations, num_agents, num_items)\n",
    "env = np.array(env)\n",
    "env_count = np.sum(env)\n",
    "print(f\"Number of allocations: {len(allocations)}\")\n",
    "print(f\"Number of allocations that are envy free: {env_count}\")\n",
    "\n",
    "# get the max welfare (nash, utilitarian, egalitarian) of the allocations\n",
    "welfare = calculate_utilities(allocations, valuation_table)\n",
    "\n",
    "\n",
    "# get the max welfare (nash, utilitarian, egalitarian) of the allocations\n",
    "\n",
    "\n",
    "\n",
    "print(f\"Max Nash welfare: {max_nash_welfare(welfare)}\")\n",
    "print(f\"Max Utilitarian welfare: {max_utilitarian_welfare(welfare)}\")\n",
    "print(f\"Max Egalitarian welfare: {max_egalitarian_welfare(welfare)}\")\n"
   ]
  },
  {
   "cell_type": "code",
   "execution_count": null,
   "metadata": {},
   "outputs": [
    {
     "name": "stdout",
     "output_type": "stream",
     "text": [
      "Max Nash welfare: 2976\n",
      "Max Utilitarian welfare: 158\n",
      "Max Egalitarian welfare: 45\n"
     ]
    }
   ],
   "source": []
  },
  {
   "cell_type": "code",
   "execution_count": null,
   "metadata": {},
   "outputs": [],
   "source": []
  },
  {
   "cell_type": "code",
   "execution_count": 28,
   "metadata": {},
   "outputs": [],
   "source": [
    "env = np.array(env)\n",
    "# Check if all allocations are envy-free\n"
   ]
  },
  {
   "cell_type": "code",
   "execution_count": 33,
   "metadata": {},
   "outputs": [
    {
     "data": {
      "text/plain": [
       "array([[[1, 1, 1],\n",
       "        [0, 0, 0]],\n",
       "\n",
       "       [[1, 1, 0],\n",
       "        [0, 0, 1]],\n",
       "\n",
       "       [[1, 0, 1],\n",
       "        [0, 1, 0]],\n",
       "\n",
       "       [[1, 0, 0],\n",
       "        [0, 1, 1]],\n",
       "\n",
       "       [[0, 1, 1],\n",
       "        [1, 0, 0]],\n",
       "\n",
       "       [[0, 1, 0],\n",
       "        [1, 0, 1]],\n",
       "\n",
       "       [[0, 0, 1],\n",
       "        [1, 1, 0]],\n",
       "\n",
       "       [[0, 0, 0],\n",
       "        [1, 1, 1]]])"
      ]
     },
     "execution_count": 33,
     "metadata": {},
     "output_type": "execute_result"
    }
   ],
   "source": [
    "allocations"
   ]
  },
  {
   "cell_type": "code",
   "execution_count": 31,
   "metadata": {},
   "outputs": [
    {
     "data": {
      "text/plain": [
       "array([[False, False, False, False, False, False,  True, False]])"
      ]
     },
     "execution_count": 31,
     "metadata": {},
     "output_type": "execute_result"
    }
   ],
   "source": [
    "env"
   ]
  },
  {
   "cell_type": "code",
   "execution_count": 29,
   "metadata": {},
   "outputs": [],
   "source": [
    "# count where env == True\n",
    "env_count = np.sum(env)"
   ]
  },
  {
   "cell_type": "code",
   "execution_count": 30,
   "metadata": {},
   "outputs": [
    {
     "data": {
      "text/plain": [
       "1"
      ]
     },
     "execution_count": 30,
     "metadata": {},
     "output_type": "execute_result"
    }
   ],
   "source": [
    "env_count"
   ]
  },
  {
   "cell_type": "code",
   "execution_count": 14,
   "metadata": {},
   "outputs": [
    {
     "name": "stdout",
     "output_type": "stream",
     "text": [
      "Number of envy-free allocations: 0\n"
     ]
    }
   ],
   "source": [
    "# count number of times envy is true\n",
    "envy_count = 0\n",
    "for i in range(len(env)):\n",
    "    if env[i].all():\n",
    "        envy_count += 1\n",
    "print(f\"Number of envy-free allocations: {envy_count}\")"
   ]
  },
  {
   "cell_type": "code",
   "execution_count": 8,
   "metadata": {},
   "outputs": [
    {
     "name": "stdout",
     "output_type": "stream",
     "text": [
      "Number of envy-free allocations: 1431\n",
      "(array([[[  0,   0,   0,   0,   0,   0,   0],\n",
      "        [328,   0,   0,   0,   0,   0,   0],\n",
      "        [426,   0,   0,   0,   0,   0,   0],\n",
      "        [400,   0,   0,   0,   0,   0,   0],\n",
      "        [427,   0,   0,   0,   0,   0,   0],\n",
      "        [303,   0,   0,   0,   0,   0,   0],\n",
      "        [440,   0,   0,   0,   0,   0,   0]]]), array([[[   0, -541, -541, -541, -541, -541, -541],\n",
      "        [ 328,    0,    0,    0,    0,    0,    0],\n",
      "        [ 426,    0,    0,    0,    0,    0,    0],\n",
      "        [ 400,    0,    0,    0,    0,    0,    0],\n",
      "        [ 427,    0,    0,    0,    0,    0,    0],\n",
      "        [ 303,    0,    0,    0,    0,    0,    0],\n",
      "        [ 440,    0,    0,    0,    0,    0,    0]]]))\n"
     ]
    }
   ],
   "source": [
    "print(f\"Number of envy-free allocations: {envy_free_count}\")\n",
    "\n",
    "from envy_freeness import calculate_envy\n",
    "\n",
    "print(calculate_envy([valuation_table], [allocations[0]], 7,8))"
   ]
  }
 ],
 "metadata": {
  "kernelspec": {
   "display_name": "llm_fairness",
   "language": "python",
   "name": "python3"
  },
  "language_info": {
   "codemirror_mode": {
    "name": "ipython",
    "version": 3
   },
   "file_extension": ".py",
   "mimetype": "text/x-python",
   "name": "python",
   "nbconvert_exporter": "python",
   "pygments_lexer": "ipython3",
   "version": "3.9.20"
  }
 },
 "nbformat": 4,
 "nbformat_minor": 2
}

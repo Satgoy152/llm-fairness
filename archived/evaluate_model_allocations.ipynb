{
 "cells": [
  {
   "cell_type": "code",
   "execution_count": 1,
   "metadata": {},
   "outputs": [],
   "source": [
    "import json\n",
    "import pandas as pd\n",
    "import numpy as np\n",
    "agents = 2\n",
    "num_agents = 2\n",
    "items = 3\n",
    "type_of_dist = 'exponential'\n",
    "\n",
    "# valuation table\n",
    "#    0   1   2\n",
    "# 0  69  43  63\n",
    "# 1  84  93  48\n",
    "\n",
    "valuations = np.array([[69, 43, 63], [84, 93, 48]])\n",
    "\n"
   ]
  },
  {
   "cell_type": "code",
   "execution_count": 10,
   "metadata": {},
   "outputs": [
    {
     "name": "stdout",
     "output_type": "stream",
     "text": [
      "{0: [2], 1: [0, 1], 2: []}\n",
      "{0: [2], 1: [0, 1], 2: []}\n",
      "[[[0. 0. 1.]\n",
      "  [1. 1. 0.]]\n",
      "\n",
      " [[0. 0. 1.]\n",
      "  [1. 1. 0.]]]\n",
      "[[[69. 43. 63.]\n",
      "  [84. 93. 48.]]\n",
      "\n",
      " [[69. 43. 63.]\n",
      "  [84. 93. 48.]]]\n",
      "[[[ 0. 49.]\n",
      "  [ 0.  0.]]\n",
      "\n",
      " [[ 0. 49.]\n",
      "  [ 0.  0.]]]\n",
      "[[[ -inf   49.]\n",
      "  [-129.  -inf]]\n",
      "\n",
      " [[ -inf   49.]\n",
      "  [-129.  -inf]]]\n"
     ]
    }
   ],
   "source": [
    "paths = ['/Users/satyamgoyal/Downloads/Vs Code/llm-fairness/outputs/agents_2/items_3/gpt4om/zero_shot0/output_1.txt', '/Users/satyamgoyal/Downloads/Vs Code/llm-fairness/outputs/agents_2/items_3/gpt4om/zero_shot0/output_1.txt']\n",
    "from model_response import model_init, query_model, extract_json\n",
    "from valuation_generation import generate_valuations\n",
    "\n",
    "import numpy as np\n",
    "import pandas as pd\n",
    "\n",
    "agents = 2\n",
    "items = 3\n",
    "\n",
    "allocation_matrices = np.zeros((2, agents, items))\n",
    "\n",
    "valuation_tables = np.zeros((2, agents, items))\n",
    "\n",
    "for i in range(2):\n",
    "    table = pd.DataFrame(generate_valuations(agents, items, scale=10))\n",
    "    # valuations = table.values\n",
    "    valuation_tables[i] = valuations\n",
    "\n",
    "    allocation = extract_json(f\"{paths[i]}\")\n",
    "    print(allocation)\n",
    "    for j in range(agents):\n",
    "            for item in allocation[j]:\n",
    "                allocation_matrices[i][j][item] = 1\n",
    "\n",
    "print(allocation_matrices)\n",
    "print(valuation_tables)\n",
    "allocation_matrices_T = np.transpose(allocation_matrices, (0, 2, 1))\n",
    "\n",
    "allocation_table = np.matmul(valuation_tables, allocation_matrices_T)\n",
    "\n",
    "envy_matrix_clipped = np.maximum(0, allocation_table - np.diagonal(allocation_table, axis1=1, axis2=2)[:, :, np.newaxis])\n",
    "envy_matrix_unclipped = allocation_table - np.diagonal(allocation_table, axis1=1, axis2=2)[:, :, np.newaxis]\n",
    "\n",
    "n, m, _ = envy_matrix_unclipped.shape\n",
    "i, j = np.arange(m), np.arange(m)\n",
    "\n",
    "# Use advanced indexing to set the diagonals\n",
    "envy_matrix_unclipped[:, i, j] = -np.inf\n",
    "\n",
    "print(envy_matrix_clipped)\n",
    "print(envy_matrix_unclipped)\n",
    "# verify\n",
    "# for i in range(2):\n",
    "#     alloc = valuation_tables[i] @ allocation_matrices[i].T\n",
    "#     print(np.maximum(0, alloc - np.diag(alloc)[:, np.newaxis]))\n",
    "\n",
    "# print(envy_matrix_clipped)"
   ]
  },
  {
   "cell_type": "code",
   "execution_count": 12,
   "metadata": {},
   "outputs": [
    {
     "name": "stdout",
     "output_type": "stream",
     "text": [
      "[[49.  0.]\n",
      " [49.  0.]]\n",
      "[[-129.   49.]\n",
      " [-129.   49.]]\n"
     ]
    }
   ],
   "source": [
    "# print(envy_matrix_clipped[0].max(axis=1))\n",
    "# print(envy_matrix_clipped[1].max(axis=1))\n",
    "# envy_matrix_clipped.max(axis=2)\n",
    "max_envy = envy_matrix_clipped.max(axis=2)\n",
    "max_envy_unclipped = envy_matrix_unclipped.max(axis=1)\n",
    "\n",
    "sum_envy = envy_matrix_clipped.sum(axis=2)\n",
    "sum_envy_unclipped = envy_matrix_unclipped.sum(axis=2)\n",
    "\n",
    "print(max_envy)\n",
    "print(max_envy_unclipped)\n",
    "\n",
    "\n",
    "# test_id = [1,2]\n",
    "# distribution = 'uniform'\n",
    "# num_agents = agents\n",
    "# num_items = items\n",
    "\n",
    "\n",
    "\n",
    "# envy_freeness = pd.DataFrame()\n",
    "\n",
    "# envy_freeness['Test_Id'] = range(1, 3)\n",
    "\n",
    "# for i in range(num_agents):\n",
    "#     envy_freeness['Agent_' + str(i+1) + '_Max'] = max_envy[:][i]\n",
    "#     envy_freeness['Agent_' + str(i+1) + '_Max_Unclipped'] = max_envy_unclipped[:][i]\n",
    "#     envy_freeness['Agent_' + str(i+1) + '_Sum'] = sum_envy[:][i]\n",
    "#     envy_freeness['Agent_' + str(i+1) + '_Sum_Unclipped'] = sum_envy_unclipped[:][i]\n",
    "\n",
    "\n",
    "# envy_freeness['Max_Envies'] = max_envy.max()\n",
    "# envy_freeness['Max_Envies_Unclipped'] = max_envy_unclipped.max()\n",
    "# envy_freeness['Sum_Envies'] = sum_envy.sum()\n",
    "# envy_freeness['Sum_Envies_Unclipped'] = sum_envy_unclipped.sum()\n",
    "# envy_freeness['Envy_Freeness'] = 1 if max_envy.max() == 0 else 0\n",
    "\n",
    "# envy_freeness.to_csv('envy_freeness2.csv', index=False)"
   ]
  },
  {
   "cell_type": "code",
   "execution_count": 13,
   "metadata": {},
   "outputs": [
    {
     "name": "stdout",
     "output_type": "stream",
     "text": [
      "Allocation Table:  [[ 5.09  6.57]\n",
      " [26.58 30.43]]\n",
      "Allocation Matrix:  [[0. 1. 0.]\n",
      " [1. 0. 1.]]\n",
      "Allocation Table:  [[ 5.09  6.57]\n",
      " [26.58 30.43]]\n"
     ]
    }
   ],
   "source": [
    "from envy_freeness import calculate_envy\n",
    "\n",
    "envy_matrix_c, envy_matrix_u  = calculate_envy(valuations, allocation, num_agents=num_agents, num_items=items)"
   ]
  },
  {
   "cell_type": "code",
   "execution_count": 18,
   "metadata": {},
   "outputs": [
    {
     "ename": "SyntaxError",
     "evalue": "invalid syntax (3987016503.py, line 12)",
     "output_type": "error",
     "traceback": [
      "\u001b[0;36m  Cell \u001b[0;32mIn[18], line 12\u001b[0;36m\u001b[0m\n\u001b[0;31m    path =\u001b[0m\n\u001b[0m           ^\u001b[0m\n\u001b[0;31mSyntaxError\u001b[0m\u001b[0;31m:\u001b[0m invalid syntax\n"
     ]
    }
   ],
   "source": [
    "\n",
    "# get the max and sum of every column\n",
    "max_envy = envy_matrix_c.max(axis=1)\n",
    "max_envy_unclipped = envy_matrix_u.max(axis=1)\n",
    "\n",
    "sum_envy = envy_matrix_c.sum(axis=1)\n",
    "sum_envy_unclipped = envy_matrix_u.sum(axis=1)\n",
    "\n",
    "test_id = 1\n",
    "distribution = type_of_dist\n",
    "num_agents = agents\n",
    "num_items = items\n",
    "path = f\"{agents}_{items}\"\n",
    "\n",
    "envy_freeness = pd.DataFrame()\n",
    "\n",
    "envy_freeness['Test_Id'] = [test_id]\n",
    "for i in range(num_agents):\n",
    "    envy_freeness['Agent_' + str(i+1) + '_Max'] = max_envy[i]\n",
    "    envy_freeness['Agent_' + str(i+1) + '_Max_Unclipped'] = max_envy_unclipped[i]\n",
    "    envy_freeness['Agent_' + str(i+1) + '_Sum'] = sum_envy[i]\n",
    "    envy_freeness['Agent_' + str(i+1) + '_Sum_Unclipped'] = sum_envy_unclipped[i]\n",
    "\n",
    "\n",
    "envy_freeness['Max_Envies'] = max_envy.max()\n",
    "envy_freeness['Max_Envies_Unclipped'] = max_envy_unclipped.max()\n",
    "envy_freeness['Sum_Envies'] = sum_envy.sum()\n",
    "envy_freeness['Sum_Envies_Unclipped'] = sum_envy_unclipped.sum()\n",
    "envy_freeness['Envy_Freeness'] = 1 if max_envy.max() == 0 else 0\n",
    "\n",
    "envy_freeness.to_csv('envy_freeness.csv', index=False)"
   ]
  },
  {
   "cell_type": "code",
   "execution_count": null,
   "metadata": {},
   "outputs": [],
   "source": []
  }
 ],
 "metadata": {
  "kernelspec": {
   "display_name": "llm_fairness",
   "language": "python",
   "name": "python3"
  },
  "language_info": {
   "codemirror_mode": {
    "name": "ipython",
    "version": 3
   },
   "file_extension": ".py",
   "mimetype": "text/x-python",
   "name": "python",
   "nbconvert_exporter": "python",
   "pygments_lexer": "ipython3",
   "version": "3.9.20"
  }
 },
 "nbformat": 4,
 "nbformat_minor": 2
}

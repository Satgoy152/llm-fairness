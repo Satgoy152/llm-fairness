{
 "cells": [
  {
   "cell_type": "code",
   "execution_count": 2,
   "metadata": {},
   "outputs": [],
   "source": [
    "def generate_prompts(agents, items, table):\n",
    "    \n",
    "    base_prompt = f\"\"\"\n",
    "The following table represents the valuations of {agents} agents numbered 0,1,2, and so on for {items} items.  numbered 0,1,2, and so on. For example, the value agent 1 has of item 2 is {table[2][1]}.\n",
    "\n",
    "{table}\n",
    "\n",
    "Fairly allocate all the items to the agents so that each agent gets an integer number of items.\n",
    "\n",
    "Present your allocations at the end in the following json format:\n",
    "{{\n",
    "    \"0\": [0,1,2],\n",
    "    \"1\": [3,4],\n",
    "    \"2\": [5,6,7]\n",
    "}}\n",
    "\n",
    "Where the keys are the agent numbers and the values are lists of the items allocated to that agent.\n",
    "\"\"\"\n",
    "\n",
    "    return base_prompt"
   ]
  },
  {
   "cell_type": "code",
   "execution_count": null,
   "metadata": {},
   "outputs": [
    {
     "data": {
      "text/html": [
       "<div>\n",
       "<style scoped>\n",
       "    .dataframe tbody tr th:only-of-type {\n",
       "        vertical-align: middle;\n",
       "    }\n",
       "\n",
       "    .dataframe tbody tr th {\n",
       "        vertical-align: top;\n",
       "    }\n",
       "\n",
       "    .dataframe thead th {\n",
       "        text-align: right;\n",
       "    }\n",
       "</style>\n",
       "<table border=\"1\" class=\"dataframe\">\n",
       "  <thead>\n",
       "    <tr style=\"text-align: right;\">\n",
       "      <th></th>\n",
       "      <th>0</th>\n",
       "      <th>1</th>\n",
       "      <th>2</th>\n",
       "    </tr>\n",
       "  </thead>\n",
       "  <tbody>\n",
       "    <tr>\n",
       "      <th>0</th>\n",
       "      <td>27</td>\n",
       "      <td>5</td>\n",
       "      <td>71</td>\n",
       "    </tr>\n",
       "    <tr>\n",
       "      <th>1</th>\n",
       "      <td>57</td>\n",
       "      <td>17</td>\n",
       "      <td>86</td>\n",
       "    </tr>\n",
       "  </tbody>\n",
       "</table>\n",
       "</div>"
      ],
      "text/plain": [
       "    0   1   2\n",
       "0  27   5  71\n",
       "1  57  17  86"
      ]
     },
     "execution_count": 7,
     "metadata": {},
     "output_type": "execute_result"
    }
   ],
   "source": [
    "import pandas as pd\n",
    "from valuation_generation import generate_valuations\n",
    "\n",
    "agents = 2\n",
    "items = 3\n",
    "type_of_dist = 'exponential'\n",
    "\n",
    "table = pd.DataFrame(generate_valuations(agents, items, scale=100))\n"
   ]
  },
  {
   "cell_type": "code",
   "execution_count": 4,
   "metadata": {},
   "outputs": [],
   "source": [
    "# Log results\n",
    "\n",
    "\n",
    "with open(\"initial_tests/test_11.txt\", \"w\") as file:\n",
    "    file.write(\"Input:\\n\")\n",
    "    file.write(generate_prompts(agents, items, table))\n",
    "    file.write(\"\\n\")\n",
    "    file.write(\"Model: GPT4o\\n\")\n",
    "    file.write(f\"Type of distribution: {type_of_dist}\\n\")\n",
    "    file.write(\"Temperature: 0.7\\n\")\n",
    "    file.write(\"\\n\")\n",
    "    file.write(\"Output:\\n\")"
   ]
  }
 ],
 "metadata": {
  "kernelspec": {
   "display_name": "llm_fairness",
   "language": "python",
   "name": "python3"
  },
  "language_info": {
   "codemirror_mode": {
    "name": "ipython",
    "version": 3
   },
   "file_extension": ".py",
   "mimetype": "text/x-python",
   "name": "python",
   "nbconvert_exporter": "python",
   "pygments_lexer": "ipython3",
   "version": "3.9.20"
  }
 },
 "nbformat": 4,
 "nbformat_minor": 2
}

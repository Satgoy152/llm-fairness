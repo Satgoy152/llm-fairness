{
 "cells": [
  {
   "cell_type": "code",
   "execution_count": 11,
   "metadata": {},
   "outputs": [],
   "source": [
    "import numpy as np\n",
    "\n",
    "def generate_uniform_valuations(num_agents, num_items, scale=1.0):\n",
    "    return (np.random.uniform(0, 1, (num_agents, num_items)) * scale).round(2)\n",
    "\n",
    "def generate_exponential_valuations(num_agents, num_items, scale=1.0):\n",
    "    return (np.random.exponential(scale, (num_agents, num_items))).round(2)\n",
    "\n",
    "def generate_log_normal_valuations(num_agents, num_items, mean=0, sigma=1.0, scale=1.0):\n",
    "    return (np.random.lognormal(mean, sigma, (num_agents, num_items)) * scale).round(2)"
   ]
  },
  {
   "cell_type": "code",
   "execution_count": 15,
   "metadata": {},
   "outputs": [
    {
     "name": "stdout",
     "output_type": "stream",
     "text": [
      "      0     1     2     3     4     5     6\n",
      "0  9.96  5.50  3.55  8.95  2.01  7.79  1.06\n",
      "1  3.78  8.29  7.28  8.86  5.47  0.21  3.73\n",
      "2  9.35  1.08  7.54  0.49  3.88  9.82  3.57\n",
      "3  5.27  9.36  3.83  4.60  5.48  6.71  7.12\n",
      "       0      1     2      3      4      5     6\n",
      "0  19.06  14.70  1.65   4.36   4.56  12.07  1.71\n",
      "1   2.49   9.33  3.21  18.63  23.71   2.09  9.42\n",
      "2  12.16   7.13  5.86   2.81   2.10  11.01  3.44\n",
      "3   0.43   7.22  1.13  11.35   0.99   0.83  2.08\n",
      "       0     1      2      3      4      5      6\n",
      "0   2.37  4.82   5.41   3.58   3.89  10.51   7.50\n",
      "1  16.61  2.74  12.15   9.41  10.30  21.66   5.10\n",
      "2  11.69  7.40   2.69  22.23  37.25  14.79  90.76\n",
      "3  14.88  3.38  11.37   2.49   3.46   2.95  21.91\n"
     ]
    }
   ],
   "source": [
    "import pandas as pd\n",
    "\n",
    "agents = 4\n",
    "items = 7\n",
    "\n",
    "print(pd.DataFrame(generate_uniform_valuations(agents, items, scale=10)))\n",
    "print(pd.DataFrame(generate_exponential_valuations(agents, items, scale=10)))\n",
    "print(pd.DataFrame(generate_log_normal_valuations(agents, items, scale=10)))"
   ]
  }
 ],
 "metadata": {
  "kernelspec": {
   "display_name": "llm_fairness",
   "language": "python",
   "name": "python3"
  },
  "language_info": {
   "codemirror_mode": {
    "name": "ipython",
    "version": 3
   },
   "file_extension": ".py",
   "mimetype": "text/x-python",
   "name": "python",
   "nbconvert_exporter": "python",
   "pygments_lexer": "ipython3",
   "version": "3.9.20"
  }
 },
 "nbformat": 4,
 "nbformat_minor": 2
}

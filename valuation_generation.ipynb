{
 "cells": [
  {
   "cell_type": "code",
   "execution_count": 3,
   "metadata": {},
   "outputs": [],
   "source": [
    "import numpy as np\n",
    "\n",
    "def generate_uniform_valuations(num_agents, num_items, scale=1.0):\n",
    "    return (np.random.uniform(0, 1, (num_agents, num_items)) * scale).round(2)\n",
    "\n",
    "def generate_exponential_valuations(num_agents, num_items, scale=1.0):\n",
    "    return (np.random.exponential(scale, (num_agents, num_items))).round(2)\n",
    "\n",
    "def generate_log_normal_valuations(num_agents, num_items, mean=0, sigma=1.0, scale=1.0):\n",
    "    return (np.random.lognormal(mean, sigma, (num_agents, num_items)) * scale).round(2)"
   ]
  },
  {
   "cell_type": "code",
   "execution_count": 22,
   "metadata": {},
   "outputs": [
    {
     "name": "stdout",
     "output_type": "stream",
     "text": [
      "\n",
      "You are given a task with 2 agents and 3 items.\n",
      "\n",
      "      0     1     2\n",
      "0  6.43  5.76  9.23\n",
      "1  3.78  3.36  2.75\n",
      "\n",
      "The above table represents valuation functions for each agent (rows) for each item (columns). For example, the value agent 1 has of item 2 is 2.75. \n",
      "Fairly allocate all items to the agents so that each agent gets an integer number of items and no item is left over.\n",
      "\n"
     ]
    }
   ],
   "source": [
    "import pandas as pd\n",
    "\n",
    "agents = 2\n",
    "items = 3\n",
    "\n",
    "table = pd.DataFrame(generate_uniform_valuations(agents, items, scale=10))\n",
    "\n",
    "print(generate_prompts(agents, items, table))"
   ]
  }
 ],
 "metadata": {
  "kernelspec": {
   "display_name": "llm_fairness",
   "language": "python",
   "name": "python3"
  },
  "language_info": {
   "codemirror_mode": {
    "name": "ipython",
    "version": 3
   },
   "file_extension": ".py",
   "mimetype": "text/x-python",
   "name": "python",
   "nbconvert_exporter": "python",
   "pygments_lexer": "ipython3",
   "version": "3.9.20"
  }
 },
 "nbformat": 4,
 "nbformat_minor": 2
}

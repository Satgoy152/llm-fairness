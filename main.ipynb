{
 "cells": [
  {
   "cell_type": "code",
   "execution_count": null,
   "metadata": {},
   "outputs": [],
   "source": [
    "from generate_outputs import generate_outputs, evaluate_outputs\n",
    "\n",
    "valuation_tables, allocation_matrices = generate_outputs(agents=2, items=9, distribution='uniform', model='gpt4o', temperature=0.7, prompt_type='zero_shot0', num_outputs=100)\n",
    "evaluate_outputs(agents=2, items=9, distribution='uniform', model='gpt4o', temperature=0.7, prompt_type='zero_shot0', num_outputs=100, valuation_tables=valuation_tables, allocation_matrices=allocation_matrices)"
   ]
  },
  {
   "cell_type": "code",
   "execution_count": null,
   "metadata": {},
   "outputs": [],
   "source": [
    "from envy_freeness import find_envy_free_allocation\n",
    "from valuation_generation import generate_valuations\n",
    "\n",
    "valuation_table = generate_valuations(num_agents=2, num_items=9, scale=100, type='uniform')\n",
    "valuation_table\n",
    "\n",
    "allocation_matrix, found = find_envy_free_allocation(valuation_table)"
   ]
  },
  {
   "cell_type": "code",
   "execution_count": null,
   "metadata": {},
   "outputs": [],
   "source": [
    "allocation_matrix"
   ]
  },
  {
   "cell_type": "code",
   "execution_count": null,
   "metadata": {},
   "outputs": [],
   "source": [
    "from openai import OpenAI\n",
    "client = OpenAI()\n",
    "\n",
    "batch_input_file = client.files.create(\n",
    "    file=open(\"outputs/agents_4/items_5/gpt4o/zero_shot1/batch_request.jsonl\", \"rb\"),\n",
    "    purpose=\"batch\"\n",
    ")\n",
    "\n",
    "print(batch_input_file)"
   ]
  },
  {
   "cell_type": "code",
   "execution_count": null,
   "metadata": {},
   "outputs": [],
   "source": [
    "from openai import OpenAI\n",
    "client = OpenAI()\n",
    "\n",
    "batch_input_file_id = batch_input_file.id\n",
    "client.batches.create(\n",
    "    input_file_id=batch_input_file_id,\n",
    "    endpoint=\"/v1/chat/completions\",\n",
    "    completion_window=\"24h\",\n",
    "    metadata={\n",
    "        \"description\": \"llm fair eval\"\n",
    "    }\n",
    ")"
   ]
  },
  {
   "cell_type": "code",
   "execution_count": null,
   "metadata": {},
   "outputs": [],
   "source": [
    "from openai import OpenAI\n",
    "client = OpenAI()\n",
    "\n",
    "batch = client.batches.retrieve(\"batch_67af034848c0819083bd7d8fc7128b1f\")\n",
    "print(batch)"
   ]
  },
  {
   "cell_type": "code",
   "execution_count": null,
   "metadata": {},
   "outputs": [],
   "source": [
    "from model_response import extract_json\n",
    "\n",
    "\n",
    "extract_json(\"outputs/agents_5/items_9/gpt4o/zero_shot3/output_1.txt\")"
   ]
  },
  {
   "cell_type": "code",
   "execution_count": null,
   "metadata": {},
   "outputs": [],
   "source": [
    "num_outputs = 500\n",
    "path = \"outputs/agents_5/items_9/gpt4o/zero_shot3\"\n",
    "from model_response import extract_json\n",
    "import numpy as np\n",
    "\n",
    "agents = 5\n",
    "items = 9\n",
    "\n",
    "allocation_matrices = np.zeros((num_outputs, agents, items))\n",
    "valuation_tables = np.zeros((num_outputs, agents, items))\n",
    "\n",
    "for i in range(num_outputs):\n",
    "        with open(f\"{path}/output_{i+1}.txt\", \"r\") as file:\n",
    "            # get allocation matrix\n",
    "            try:\n",
    "                allocation = extract_json(f\"{path}/output_{i+1}.txt\")\n",
    "            except:\n",
    "                 print(f\"Error in output_{i+1}.txt\")\n",
    "\n",
    "            # allocation_matrix = np.zeros((agents, items))\n",
    "            for j in range(agents):\n",
    "                for item in allocation[j]:\n",
    "                    allocation_matrices[i][j][item] = 1  # Mark allocated items as 1\n",
    "\n",
    "            # get valuation table find where 'Valuation Table:' and read the next lines\n",
    "            lines = file.readlines()\n",
    "            start = lines.index('Valuation Table:\\n')\n",
    "            end = lines.index('Output:\\n')\n",
    "            valuation_table = lines[start+1:end]\n",
    "            valuation_table = ''.join(valuation_table)\n",
    "            valuation_table = np.fromstring(valuation_table.replace('[', '').replace(']', ''), sep=' ')\n",
    "            valuation_table = valuation_table.reshape(agents, items)\n",
    "            valuation_table = valuation_table.astype(int)\n",
    "            valuation_tables[i] = valuation_table\n"
   ]
  },
  {
   "cell_type": "code",
   "execution_count": 1,
   "metadata": {},
   "outputs": [
    {
     "name": "stdout",
     "output_type": "stream",
     "text": [
      "outputs/agents_5/items_9/gpt4o/zero_shot3\n",
      "outputs/agents_5/items_7/gpt4o/zero_shot3\n",
      "outputs/agents_5/items_6/gpt4o/zero_shot3\n",
      "outputs/agents_5/items_8/gpt4o/zero_shot3\n",
      "outputs/agents_2/items_4/gpt4o/zero_shot0\n",
      "outputs/agents_2/items_3/gpt4o/zero_shot0\n",
      "outputs/agents_2/items_5/gpt4o/zero_shot0\n",
      "outputs/agents_2/items_9/gpt4o/zero_shot0\n",
      "outputs/agents_2/items_7/gpt4o/persona_based0\n",
      "outputs/agents_2/items_7/gpt4o/zero_shot0\n",
      "outputs/agents_2/items_6/gpt4o/zero_shot0\n",
      "outputs/agents_2/items_8/gpt4o/zero_shot0\n",
      "outputs/agents_3/items_4/gpt4o/zero_shot1\n",
      "outputs/agents_3/items_5/gpt4o/zero_shot1\n",
      "outputs/agents_3/items_9/gpt4o/zero_shot1\n",
      "outputs/agents_3/items_7/gpt4o/zero_shot1\n",
      "outputs/agents_3/items_6/gpt4o/zero_shot1\n",
      "outputs/agents_3/items_8/gpt4o/zero_shot1\n",
      "outputs/agents_4/items_5/gpt4o/zero_shot1\n",
      "outputs/agents_4/items_9/gpt4o/zero_shot1\n",
      "outputs/agents_4/items_7/gpt4o/zero_shot1\n",
      "outputs/agents_4/items_6/gpt4o/zero_shot1\n",
      "outputs/agents_4/items_8/gpt4o/zero_shot1\n",
      "outputs/agents_8/items_9/gpt4o/zero_shot6\n",
      "outputs/agents_6/items_9/gpt4o/zero_shot4\n",
      "outputs/agents_6/items_7/gpt4o/zero_shot4\n",
      "outputs/agents_6/items_8/gpt4o/zero_shot4\n",
      "outputs/agents_7/items_9/gpt4o/zero_shot5\n",
      "outputs/agents_7/items_8/gpt4o/zero_shot5\n",
      "agents: 7, items: 8, model: gpt4o, prompt_type: zero_shot5\n",
      "Generating all possible allocations for 7 agents and 8 items...\n",
      "This will create 5764801 different allocations.\n"
     ]
    },
    {
     "name": "stderr",
     "output_type": "stream",
     "text": [
      "100%|██████████| 500/500 [40:28<00:00,  4.86s/it]\n"
     ]
    }
   ],
   "source": [
    "# loop through all leaf folders and evaluate the outputs\n",
    "import os\n",
    "import pandas as pd\n",
    "import numpy as np\n",
    "\n",
    "from prompt_generation import generate_prompts\n",
    "from model_response import model_init, query_model, extract_json\n",
    "from valuation_generation import generate_valuations\n",
    "from generate_outputs import evaluate_outputs\n",
    "\n",
    "\n",
    "for root, dirs, files in os.walk(\"outputs\"):\n",
    "    if not dirs:\n",
    "        num_outputs = 1\n",
    "        print(root)\n",
    "        prompt_type = root.split('/')[-1]\n",
    "        model = root.split('/')[-2]\n",
    "        items = int(root.split('/')[-3].split('_')[1])\n",
    "        agents = int(root.split('/')[-4].split('_')[1])\n",
    "        # if agents == 2:\n",
    "        #     print(f\"agents: {agents}, items: {items}, model: {model}, prompt_type: {prompt_type}\")\n",
    "        #     evaluate_outputs(agents=agents, items=items, distribution='uniform', model=model, temperature=0.7, prompt_type=prompt_type, num_outputs=100)\n",
    "        # else:\n",
    "        if agents == 7 and items != 9:\n",
    "            print(f\"agents: {agents}, items: {items}, model: {model}, prompt_type: {prompt_type}\")\n",
    "            evaluate_outputs(agents=agents, items=items, distribution='uniform', model=model, temperature=0.7, prompt_type=prompt_type, num_outputs=500)\n",
    "            "
   ]
  },
  {
   "cell_type": "code",
   "execution_count": 2,
   "metadata": {},
   "outputs": [
    {
     "ename": "NameError",
     "evalue": "name 'evaluate_outputs' is not defined",
     "output_type": "error",
     "traceback": [
      "\u001b[0;31m---------------------------------------------------------------------------\u001b[0m",
      "\u001b[0;31mNameError\u001b[0m                                 Traceback (most recent call last)",
      "Cell \u001b[0;32mIn[2], line 1\u001b[0m\n\u001b[0;32m----> 1\u001b[0m \u001b[43mevaluate_outputs\u001b[49m(agents\u001b[38;5;241m=\u001b[39m\u001b[38;5;241m2\u001b[39m, items\u001b[38;5;241m=\u001b[39m\u001b[38;5;241m7\u001b[39m, distribution\u001b[38;5;241m=\u001b[39m\u001b[38;5;124m'\u001b[39m\u001b[38;5;124muniform\u001b[39m\u001b[38;5;124m'\u001b[39m, model\u001b[38;5;241m=\u001b[39m\u001b[38;5;124m'\u001b[39m\u001b[38;5;124mgpt4o\u001b[39m\u001b[38;5;124m'\u001b[39m, temperature\u001b[38;5;241m=\u001b[39m\u001b[38;5;241m0.7\u001b[39m, prompt_type\u001b[38;5;241m=\u001b[39m\u001b[38;5;124m'\u001b[39m\u001b[38;5;124mpersona_based0\u001b[39m\u001b[38;5;124m'\u001b[39m, num_outputs\u001b[38;5;241m=\u001b[39m\u001b[38;5;241m100\u001b[39m)\n",
      "\u001b[0;31mNameError\u001b[0m: name 'evaluate_outputs' is not defined"
     ]
    }
   ],
   "source": [
    "evaluate_outputs(agents=2, items=7, distribution='uniform', model='gpt4o', temperature=0.7, prompt_type='persona_based0', num_outputs=100)"
   ]
  }
 ],
 "metadata": {
  "kernelspec": {
   "display_name": "llm_fairness",
   "language": "python",
   "name": "python3"
  },
  "language_info": {
   "codemirror_mode": {
    "name": "ipython",
    "version": 3
   },
   "file_extension": ".py",
   "mimetype": "text/x-python",
   "name": "python",
   "nbconvert_exporter": "python",
   "pygments_lexer": "ipython3",
   "version": "3.9.20"
  }
 },
 "nbformat": 4,
 "nbformat_minor": 2
}
